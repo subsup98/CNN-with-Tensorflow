{
  "nbformat": 4,
  "nbformat_minor": 0,
  "metadata": {
    "colab": {
      "name": "CNN with Tensorflow",
      "provenance": [],
      "collapsed_sections": [],
      "include_colab_link": true
    },
    "kernelspec": {
      "name": "python3",
      "display_name": "Python 3"
    },
    "language_info": {
      "name": "python"
    },
    "accelerator": "GPU"
  },
  "cells": [
    {
      "cell_type": "markdown",
      "metadata": {
        "id": "view-in-github",
        "colab_type": "text"
      },
      "source": [
        "<a href=\"https://colab.research.google.com/github/subsup98/CNN-with-Tensorflow/blob/main/CNN_with_Tensorflow.ipynb\" target=\"_parent\"><img src=\"https://colab.research.google.com/assets/colab-badge.svg\" alt=\"Open In Colab\"/></a>"
      ]
    },
    {
      "cell_type": "markdown",
      "source": [
        "Code: CNN with Tensorflow\n",
        "\n",
        "Date: 2022/02/17 (version 1.0)\n",
        "\n",
        "Comments: YongSub Lim(dydtjqdla98@kyonggi.ac.kr) from Smart MOM&DAD Lab\n",
        "\n",
        "Description: It's a code that created a CNN using Tensorflow."
      ],
      "metadata": {
        "id": "Aq9isBtABTiB"
      }
    },
    {
      "cell_type": "code",
      "execution_count": null,
      "metadata": {
        "id": "QruC0HjjBEBD"
      },
      "outputs": [],
      "source": [
        "import tensorflow as tf\n",
        "fashion_mnist = tf.keras.datasets.fashion_mnist\n",
        "(train_images, train_labels), (test_images, test_labels) = fashion_mnist.load_data()"
      ]
    },
    {
      "cell_type": "code",
      "source": [
        "test_images"
      ],
      "metadata": {
        "colab": {
          "base_uri": "https://localhost:8080/"
        },
        "id": "6xD5ikc7HBH8",
        "outputId": "2419334c-4a3b-42ac-e114-02950668d056"
      },
      "execution_count": null,
      "outputs": [
        {
          "output_type": "execute_result",
          "data": {
            "text/plain": [
              "array([[[0, 0, 0, ..., 0, 0, 0],\n",
              "        [0, 0, 0, ..., 0, 0, 0],\n",
              "        [0, 0, 0, ..., 0, 0, 0],\n",
              "        ...,\n",
              "        [0, 0, 0, ..., 0, 0, 0],\n",
              "        [0, 0, 0, ..., 0, 0, 0],\n",
              "        [0, 0, 0, ..., 0, 0, 0]],\n",
              "\n",
              "       [[0, 0, 0, ..., 0, 0, 0],\n",
              "        [0, 0, 0, ..., 0, 0, 0],\n",
              "        [0, 0, 0, ..., 0, 0, 0],\n",
              "        ...,\n",
              "        [0, 0, 0, ..., 0, 0, 0],\n",
              "        [0, 0, 0, ..., 0, 0, 0],\n",
              "        [0, 0, 0, ..., 0, 0, 0]],\n",
              "\n",
              "       [[0, 0, 0, ..., 0, 0, 0],\n",
              "        [0, 0, 0, ..., 0, 0, 0],\n",
              "        [0, 0, 0, ..., 0, 0, 0],\n",
              "        ...,\n",
              "        [0, 0, 0, ..., 0, 0, 0],\n",
              "        [0, 0, 0, ..., 0, 0, 0],\n",
              "        [0, 0, 0, ..., 0, 0, 0]],\n",
              "\n",
              "       ...,\n",
              "\n",
              "       [[0, 0, 0, ..., 0, 0, 0],\n",
              "        [0, 0, 0, ..., 0, 0, 0],\n",
              "        [0, 0, 0, ..., 0, 0, 0],\n",
              "        ...,\n",
              "        [0, 0, 0, ..., 0, 0, 0],\n",
              "        [0, 0, 0, ..., 0, 0, 0],\n",
              "        [0, 0, 0, ..., 0, 0, 0]],\n",
              "\n",
              "       [[0, 0, 0, ..., 0, 0, 0],\n",
              "        [0, 0, 0, ..., 0, 0, 0],\n",
              "        [0, 0, 0, ..., 0, 0, 0],\n",
              "        ...,\n",
              "        [0, 0, 0, ..., 0, 0, 0],\n",
              "        [0, 0, 0, ..., 0, 0, 0],\n",
              "        [0, 0, 0, ..., 0, 0, 0]],\n",
              "\n",
              "       [[0, 0, 0, ..., 0, 0, 0],\n",
              "        [0, 0, 0, ..., 0, 0, 0],\n",
              "        [0, 0, 0, ..., 0, 0, 0],\n",
              "        ...,\n",
              "        [0, 0, 0, ..., 0, 0, 0],\n",
              "        [0, 0, 0, ..., 0, 0, 0],\n",
              "        [0, 0, 0, ..., 0, 0, 0]]], dtype=uint8)"
            ]
          },
          "metadata": {},
          "execution_count": 10
        }
      ]
    },
    {
      "cell_type": "code",
      "source": [
        "train_X = train_images/255.0\n",
        "test_X = test_images/255.0"
      ],
      "metadata": {
        "id": "QkW3EZssGX2d"
      },
      "execution_count": null,
      "outputs": []
    },
    {
      "cell_type": "markdown",
      "source": [
        ""
      ],
      "metadata": {
        "id": "xzpSx6kQBSA1"
      }
    },
    {
      "cell_type": "code",
      "source": [
        "test_X.shape"
      ],
      "metadata": {
        "colab": {
          "base_uri": "https://localhost:8080/"
        },
        "id": "ihTyOc4TKDdo",
        "outputId": "495823bd-c2ea-42e4-8c2f-67ce4c9a0e81"
      },
      "execution_count": null,
      "outputs": [
        {
          "output_type": "execute_result",
          "data": {
            "text/plain": [
              "(10000, 28, 28)"
            ]
          },
          "metadata": {},
          "execution_count": 12
        }
      ]
    },
    {
      "cell_type": "code",
      "source": [
        "# reshape 이전\n",
        "print(train_X.shape, test_X.shape)\n",
        "'''\n",
        "train_X = train_X.reshape(-1, 28, 28, 1)\n",
        "test_X = test_X.reshape(-1, 28, 28, 1)\n",
        "\n",
        "# reshape 이후\n",
        "print(train_X.shape, test_X.shape)\n",
        "'''"
      ],
      "metadata": {
        "colab": {
          "base_uri": "https://localhost:8080/",
          "height": 72
        },
        "id": "WL3i0ccMGoPA",
        "outputId": "cbd48b30-42f1-43b2-fa72-25b6c518f2ce"
      },
      "execution_count": null,
      "outputs": [
        {
          "output_type": "stream",
          "name": "stdout",
          "text": [
            "(60000, 28, 28) (10000, 28, 28)\n"
          ]
        },
        {
          "output_type": "execute_result",
          "data": {
            "application/vnd.google.colaboratory.intrinsic+json": {
              "type": "string"
            },
            "text/plain": [
              "'\\ntrain_X = train_X.reshape(-1, 28, 28, 1)\\ntest_X = test_X.reshape(-1, 28, 28, 1)\\n\\n# reshape 이후\\nprint(train_X.shape, test_X.shape)\\n'"
            ]
          },
          "metadata": {},
          "execution_count": 13
        }
      ]
    },
    {
      "cell_type": "code",
      "source": [
        "model = tf.keras.Sequential([\n",
        "  tf.keras.layers.Conv2D(input_shape=(28,28,1), kernel_size=(3,3), filters=64),\n",
        "  tf.keras.layers.MaxPooling2D(2, 2),\n",
        "  tf.keras.layers.Conv2D(kernel_size=(3,3), filters=128), \n",
        "  tf.keras.layers.MaxPooling2D(2, 2),\n",
        "  tf.keras.layers.Dropout(0.5),\n",
        "  tf.keras.layers.Conv2D(kernel_size=(3,3), filters=256),\n",
        "  tf.keras.layers.MaxPooling2D(2, 2),\n",
        "  #tf.keras.layers.Conv2D(kernel_size=(3,3), filters=128),\n",
        "  #tf.keras.layers.MaxPooling2D(2, 2),\n",
        "  tf.keras.layers.Flatten(), \n",
        "  tf.keras.layers.Dropout(0.5),\n",
        "  tf.keras.layers.Dense(units=128, activation='relu'), \n",
        "  tf.keras.layers.Dense(units=10, activation='softmax')#다중분류라서 소프트맥스 함수 사용                        \n",
        "])\n",
        "model.compile(optimizer=tf.keras.optimizers.Adam(), \n",
        "              loss='sparse_categorical_crossentropy', #클래스가 여러 개인 다중 분류에서 사용, label이 class index를 가질 때 사용 ex) 0,1,2\n",
        "              metrics=['accuracy'])\n",
        "\n",
        "model.summary()\n",
        "\n"
      ],
      "metadata": {
        "colab": {
          "base_uri": "https://localhost:8080/"
        },
        "id": "OaJc7RqZJDbI",
        "outputId": "08fcccc1-a5cf-4e4b-9013-c7ed9f97b25c"
      },
      "execution_count": null,
      "outputs": [
        {
          "output_type": "stream",
          "name": "stdout",
          "text": [
            "Model: \"sequential_13\"\n",
            "_________________________________________________________________\n",
            " Layer (type)                Output Shape              Param #   \n",
            "=================================================================\n",
            " conv2d_44 (Conv2D)          (None, 26, 26, 64)        640       \n",
            "                                                                 \n",
            " max_pooling2d_34 (MaxPoolin  (None, 13, 13, 64)       0         \n",
            " g2D)                                                            \n",
            "                                                                 \n",
            " conv2d_45 (Conv2D)          (None, 11, 11, 128)       73856     \n",
            "                                                                 \n",
            " max_pooling2d_35 (MaxPoolin  (None, 5, 5, 128)        0         \n",
            " g2D)                                                            \n",
            "                                                                 \n",
            " dropout_12 (Dropout)        (None, 5, 5, 128)         0         \n",
            "                                                                 \n",
            " conv2d_46 (Conv2D)          (None, 3, 3, 256)         295168    \n",
            "                                                                 \n",
            " max_pooling2d_36 (MaxPoolin  (None, 1, 1, 256)        0         \n",
            " g2D)                                                            \n",
            "                                                                 \n",
            " flatten_13 (Flatten)        (None, 256)               0         \n",
            "                                                                 \n",
            " dropout_13 (Dropout)        (None, 256)               0         \n",
            "                                                                 \n",
            " dense_26 (Dense)            (None, 128)               32896     \n",
            "                                                                 \n",
            " dense_27 (Dense)            (None, 10)                1290      \n",
            "                                                                 \n",
            "=================================================================\n",
            "Total params: 403,850\n",
            "Trainable params: 403,850\n",
            "Non-trainable params: 0\n",
            "_________________________________________________________________\n"
          ]
        }
      ]
    },
    {
      "cell_type": "code",
      "source": [
        "history=model.fit(train_X, train_labels, epochs=25, validation_split=0.25)\n"
      ],
      "metadata": {
        "colab": {
          "base_uri": "https://localhost:8080/"
        },
        "id": "3tyJ4Et6JNbA",
        "outputId": "aca7032f-9a7d-4c19-b91d-aca7fdaf9d55"
      },
      "execution_count": null,
      "outputs": [
        {
          "output_type": "stream",
          "name": "stdout",
          "text": [
            "Epoch 1/25\n",
            "1407/1407 [==============================] - 17s 12ms/step - loss: 0.6569 - accuracy: 0.7601 - val_loss: 0.4534 - val_accuracy: 0.8325\n",
            "Epoch 2/25\n",
            "1407/1407 [==============================] - 15s 11ms/step - loss: 0.4774 - accuracy: 0.8283 - val_loss: 0.3923 - val_accuracy: 0.8555\n",
            "Epoch 3/25\n",
            "1407/1407 [==============================] - 15s 11ms/step - loss: 0.4318 - accuracy: 0.8412 - val_loss: 0.3803 - val_accuracy: 0.8585\n",
            "Epoch 4/25\n",
            "1407/1407 [==============================] - 16s 11ms/step - loss: 0.4111 - accuracy: 0.8497 - val_loss: 0.3604 - val_accuracy: 0.8664\n",
            "Epoch 5/25\n",
            "1407/1407 [==============================] - 15s 11ms/step - loss: 0.3970 - accuracy: 0.8527 - val_loss: 0.3686 - val_accuracy: 0.8657\n",
            "Epoch 6/25\n",
            "1407/1407 [==============================] - 16s 11ms/step - loss: 0.3799 - accuracy: 0.8599 - val_loss: 0.3499 - val_accuracy: 0.8675\n",
            "Epoch 7/25\n",
            "1407/1407 [==============================] - 16s 11ms/step - loss: 0.3723 - accuracy: 0.8622 - val_loss: 0.3369 - val_accuracy: 0.8747\n",
            "Epoch 8/25\n",
            "1407/1407 [==============================] - 14s 10ms/step - loss: 0.3650 - accuracy: 0.8665 - val_loss: 0.3598 - val_accuracy: 0.8677\n",
            "Epoch 9/25\n",
            "1407/1407 [==============================] - 14s 10ms/step - loss: 0.3547 - accuracy: 0.8697 - val_loss: 0.3425 - val_accuracy: 0.8779\n",
            "Epoch 10/25\n",
            "1407/1407 [==============================] - 15s 11ms/step - loss: 0.3524 - accuracy: 0.8704 - val_loss: 0.3205 - val_accuracy: 0.8799\n",
            "Epoch 11/25\n",
            "1407/1407 [==============================] - 16s 11ms/step - loss: 0.3443 - accuracy: 0.8727 - val_loss: 0.3227 - val_accuracy: 0.8801\n",
            "Epoch 12/25\n",
            "1407/1407 [==============================] - 15s 10ms/step - loss: 0.3412 - accuracy: 0.8747 - val_loss: 0.3376 - val_accuracy: 0.8778\n",
            "Epoch 13/25\n",
            "1407/1407 [==============================] - 15s 11ms/step - loss: 0.3351 - accuracy: 0.8758 - val_loss: 0.3151 - val_accuracy: 0.8851\n",
            "Epoch 14/25\n",
            "1407/1407 [==============================] - 15s 11ms/step - loss: 0.3327 - accuracy: 0.8791 - val_loss: 0.3429 - val_accuracy: 0.8759\n",
            "Epoch 15/25\n",
            "1407/1407 [==============================] - 15s 11ms/step - loss: 0.3333 - accuracy: 0.8779 - val_loss: 0.3326 - val_accuracy: 0.8801\n",
            "Epoch 16/25\n",
            "1407/1407 [==============================] - 15s 11ms/step - loss: 0.3256 - accuracy: 0.8792 - val_loss: 0.3364 - val_accuracy: 0.8797\n",
            "Epoch 17/25\n",
            "1407/1407 [==============================] - 15s 11ms/step - loss: 0.3210 - accuracy: 0.8816 - val_loss: 0.3216 - val_accuracy: 0.8845\n",
            "Epoch 18/25\n",
            "1407/1407 [==============================] - 16s 11ms/step - loss: 0.3227 - accuracy: 0.8817 - val_loss: 0.3162 - val_accuracy: 0.8845\n",
            "Epoch 19/25\n",
            "1407/1407 [==============================] - 16s 11ms/step - loss: 0.3198 - accuracy: 0.8815 - val_loss: 0.3206 - val_accuracy: 0.8870\n",
            "Epoch 20/25\n",
            "1407/1407 [==============================] - 15s 11ms/step - loss: 0.3136 - accuracy: 0.8832 - val_loss: 0.3219 - val_accuracy: 0.8861\n",
            "Epoch 21/25\n",
            "1407/1407 [==============================] - 15s 10ms/step - loss: 0.3138 - accuracy: 0.8854 - val_loss: 0.3189 - val_accuracy: 0.8849\n",
            "Epoch 22/25\n",
            "1407/1407 [==============================] - 15s 11ms/step - loss: 0.3113 - accuracy: 0.8851 - val_loss: 0.3183 - val_accuracy: 0.8883\n",
            "Epoch 23/25\n",
            "1407/1407 [==============================] - 15s 11ms/step - loss: 0.3082 - accuracy: 0.8868 - val_loss: 0.3141 - val_accuracy: 0.8877\n",
            "Epoch 24/25\n",
            "1407/1407 [==============================] - 15s 10ms/step - loss: 0.3085 - accuracy: 0.8873 - val_loss: 0.3218 - val_accuracy: 0.8841\n",
            "Epoch 25/25\n",
            "1407/1407 [==============================] - 15s 10ms/step - loss: 0.3053 - accuracy: 0.8875 - val_loss: 0.3097 - val_accuracy: 0.8902\n"
          ]
        }
      ]
    },
    {
      "cell_type": "code",
      "source": [
        "import matplotlib.pyplot as plt\n",
        "plt.figure(figsize=(12, 4))\n",
        "\n",
        "plt.subplot(1,2,1)\n",
        "plt.plot(history.history['loss'], 'b-', label='loss')\n",
        "plt.plot(history.history['val_loss'], 'r--', label='val_loss')\n",
        "plt.xlabel('Epoch')\n",
        "plt.legend()\n",
        "\n",
        "plt.subplot(1,2,2)\n",
        "plt.plot(history.history['accuracy'], 'g-', label='accuracy')\n",
        "plt.plot(history.history['val_accuracy'], 'r--', label='val_accuracy')\n",
        "plt.xlabel('Epoch')\n",
        "plt.ylim(0.7, 1)\n",
        "plt.legend()\n",
        "\n",
        "plt.show()\n",
        "\n",
        "model.evaluate(test_X, test_labels, verbose=2)"
      ],
      "metadata": {
        "colab": {
          "base_uri": "https://localhost:8080/",
          "height": 319
        },
        "id": "K7AKLCavEYnd",
        "outputId": "facade87-0099-4421-a18d-fc14af76b54d"
      },
      "execution_count": null,
      "outputs": [
        {
          "output_type": "display_data",
          "data": {
            "image/png": "[encoded data removed]",
            "text/plain": [
              "<Figure size 864x288 with 2 Axes>"
            ]
          },
          "metadata": {
            "needs_background": "light"
          }
        },
        {
          "output_type": "stream",
          "name": "stdout",
          "text": [
            "313/313 - 1s - loss: 0.3178 - accuracy: 0.8885 - 1s/epoch - 4ms/step\n"
          ]
        },
        {
          "output_type": "execute_result",
          "data": {
            "text/plain": [
              "[0.3177969455718994, 0.8884999752044678]"
            ]
          },
          "metadata": {},
          "execution_count": 44
        }
      ]
    },
    {
      "cell_type": "markdown",
      "source": [
        "Reference:https://github.com/zalandoresearch/fashion-mnist#benchmark"
      ],
      "metadata": {
        "id": "c1eHIldOJJ5y"
      }
    }
  ]
}